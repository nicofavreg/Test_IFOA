{
 "cells": [
  {
   "cell_type": "code",
   "execution_count": null,
   "id": "a62293af",
   "metadata": {},
   "outputs": [],
   "source": [
    "import os\n",
    "import streamlit as st\n",
    "from dotenv import load_dotenv\n",
    "load_dotenv()\n",
    "\n",
    "API_key = os.getenv('api_key')\n"
   ]
  },
  {
   "cell_type": "code",
   "execution_count": 2,
   "id": "997aab24",
   "metadata": {},
   "outputs": [
    {
     "data": {
      "text/plain": [
       "<Response [200]>"
      ]
     },
     "execution_count": 2,
     "metadata": {},
     "output_type": "execute_result"
    }
   ],
   "source": [
    "import requests\n",
    "\n",
    "city_name = 'Bologna'\n",
    "\n",
    "url = f'https://api.openweathermap.org/data/2.5/weather?q={city_name}&appid={API_key}'\n",
    "\n",
    "result = requests.get(url)\n",
    "result"
   ]
  },
  {
   "cell_type": "code",
   "execution_count": 23,
   "id": "4a3e8cfc",
   "metadata": {},
   "outputs": [
    {
     "data": {
      "text/plain": [
       "{'coord': {'lon': 11.4333, 'lat': 44.4667},\n",
       " 'weather': [{'id': 804,\n",
       "   'main': 'Clouds',\n",
       "   'description': 'overcast clouds',\n",
       "   'icon': '04d'}],\n",
       " 'base': 'stations',\n",
       " 'main': {'temp': 292.62,\n",
       "  'feels_like': 292.37,\n",
       "  'temp_min': 292.53,\n",
       "  'temp_max': 293.85,\n",
       "  'pressure': 1014,\n",
       "  'humidity': 67,\n",
       "  'sea_level': 1014,\n",
       "  'grnd_level': 999},\n",
       " 'visibility': 10000,\n",
       " 'wind': {'speed': 2.68, 'deg': 34, 'gust': 3.58},\n",
       " 'clouds': {'all': 89},\n",
       " 'dt': 1747132944,\n",
       " 'sys': {'type': 2,\n",
       "  'id': 2004497,\n",
       "  'country': 'IT',\n",
       "  'sunrise': 1747108148,\n",
       "  'sunset': 1747161133},\n",
       " 'timezone': 7200,\n",
       " 'id': 3181927,\n",
       " 'name': 'Bologna',\n",
       " 'cod': 200}"
      ]
     },
     "execution_count": 23,
     "metadata": {},
     "output_type": "execute_result"
    }
   ],
   "source": [
    "json = result.json()\n",
    "json"
   ]
  },
  {
   "cell_type": "code",
   "execution_count": 25,
   "id": "ccace975",
   "metadata": {},
   "outputs": [
    {
     "data": {
      "text/plain": [
       "dict_keys(['coord', 'weather', 'base', 'main', 'visibility', 'wind', 'clouds', 'dt', 'sys', 'timezone', 'id', 'name', 'cod'])"
      ]
     },
     "execution_count": 25,
     "metadata": {},
     "output_type": "execute_result"
    }
   ],
   "source": [
    "json.keys()"
   ]
  },
  {
   "cell_type": "code",
   "execution_count": 54,
   "id": "deaf169b",
   "metadata": {},
   "outputs": [],
   "source": [
    "temp_max = json['main']['temp_max'] - 273.15 # temperatura massima\n",
    "temp_min = json['main']['temp_min'] - 273.15 # temperatura massima\n",
    "latitudine = json['coord']['lat'] #latitudine\n",
    "longitudine = json['coord']['lon'] #longitudine\n",
    "temperatura = json['main']['temp'] - 273.15 #temperatura\n",
    "temp_percepita = json['main']['feels_like'] - 273.15\n",
    "pressione = json['main']['pressure'] #pressione atmosferica hPa\n",
    "umidita = json['main']['humidity'] #umidità in %\n",
    "visibilita = json['visibility'] #visitbilità\n",
    "vel_vento = json['wind']['speed'] #velocità vento m/s\n",
    "stato = json['sys']['country'] #stato\n",
    "alba =json['sys']['sunrise'] #alba\n",
    "tramonto =json['sys']['sunset'] #tramonto\n",
    "citta = json['name'] #città\n",
    "liv_mare = json['main']['sea_level'] #metri sopra il livello del mare\n",
    "descr = json['weather'][0]['description'] # descrizione\n",
    "situa = json['weather'][0]['main'] #situazione generale\n",
    "direzione = json['wind']['deg'] #direzione vento in gradi °\n",
    "raffiche = json['wind']['gust'] #raffiche vento m/s\n",
    "pressione_suolo = json['main']['grnd_level'] #pressione del suolo hPa"
   ]
  },
  {
   "cell_type": "code",
   "execution_count": null,
   "id": "c7bb97a6",
   "metadata": {},
   "outputs": [],
   "source": [
    "def main():\n",
    "    st.title(\"questa è la creazione di un'applicazione meteo\")\n",
    "    st.divider()\n",
    "    \n",
    "    st.checkbox('')\n",
    "\n",
    "if __name__ == \"__main__\":\n",
    "    main()"
   ]
  }
 ],
 "metadata": {
  "kernelspec": {
   "display_name": "Python 3",
   "language": "python",
   "name": "python3"
  },
  "language_info": {
   "codemirror_mode": {
    "name": "ipython",
    "version": 3
   },
   "file_extension": ".py",
   "mimetype": "text/x-python",
   "name": "python",
   "nbconvert_exporter": "python",
   "pygments_lexer": "ipython3",
   "version": "3.11.9"
  }
 },
 "nbformat": 4,
 "nbformat_minor": 5
}
